{
  "cells": [
    {
      "cell_type": "markdown",
      "metadata": {
        "id": "view-in-github",
        "colab_type": "text"
      },
      "source": [
        "<a href=\"https://colab.research.google.com/github/geka81/SkillFactory/blob/main/B5.ipynb\" target=\"_parent\"><img src=\"https://colab.research.google.com/assets/colab-badge.svg\" alt=\"Open In Colab\"/></a>"
      ]
    },
    {
      "cell_type": "markdown",
      "metadata": {
        "id": "AiSvXp8Ps1uD"
      },
      "source": [
        "# Разбор итогового задания B5.6"
      ]
    },
    {
      "cell_type": "code",
      "source": [
        ""
      ],
      "metadata": {
        "id": "oDxshUrhs5Xf"
      },
      "execution_count": null,
      "outputs": []
    },
    {
      "cell_type": "markdown",
      "metadata": {
        "id": "5Yw-VSU2s1uz"
      },
      "source": [
        "## Приветствие"
      ]
    },
    {
      "cell_type": "code",
      "execution_count": 1,
      "metadata": {
        "colab": {
          "base_uri": "https://localhost:8080/"
        },
        "id": "08nqMaY1s1vE",
        "outputId": "43b9d7f6-f69d-409a-c81f-cb7262e600cc"
      },
      "outputs": [
        {
          "output_type": "stream",
          "name": "stdout",
          "text": [
            "-------------------\n",
            "  Приветсвуем вас  \n",
            "      в игре       \n",
            "  крестики-нолики  \n",
            "-------------------\n",
            " формат ввода: x y \n",
            " x - номер строки  \n",
            " y - номер столбца \n"
          ]
        }
      ],
      "source": [
        "def greet():\n",
        "    print(\"-------------------\")\n",
        "    print(\"  Приветсвуем вас  \")\n",
        "    print(\"      в игре       \")\n",
        "    print(\"  крестики-нолики  \")\n",
        "    print(\"-------------------\")\n",
        "    print(\" формат ввода: x y \")\n",
        "    print(\" x - номер строки  \")\n",
        "    print(\" y - номер столбца \")\n",
        "\n",
        "greet()"
      ]
    },
    {
      "cell_type": "markdown",
      "metadata": {
        "id": "I-I_vtg_s1vU"
      },
      "source": [
        "## Создаём поле"
      ]
    },
    {
      "cell_type": "code",
      "execution_count": 4,
      "metadata": {
        "id": "9CbhF88Hs1vb"
      },
      "outputs": [],
      "source": [
        "field = [[\" \"] * 3 for i in range(3) ]"
      ]
    },
    {
      "cell_type": "markdown",
      "metadata": {
        "id": "oE9En7tVs1vj"
      },
      "source": [
        "## Выводим поле на экран"
      ]
    },
    {
      "cell_type": "markdown",
      "metadata": {
        "id": "nOS0-9nes1vn"
      },
      "source": [
        "#### Вывод \"как в образце\""
      ]
    },
    {
      "cell_type": "code",
      "execution_count": null,
      "metadata": {
        "id": "pcS7Gohes1vu",
        "outputId": "3a2f87ed-e7da-492d-a734-13c662e28eff"
      },
      "outputs": [
        {
          "name": "stdout",
          "output_type": "stream",
          "text": [
            "  0 1 2\n",
            "0      \n",
            "1      \n",
            "2      \n"
          ]
        }
      ],
      "source": [
        "def show():\n",
        "    print(f\"  0 1 2\")\n",
        "    for i in range(3):\n",
        "        row_info = \" \".join(field[i])\n",
        "        print(f\"{i} {row_info}\")\n",
        "\n",
        "show()"
      ]
    },
    {
      "cell_type": "markdown",
      "metadata": {
        "id": "gjcenQRSs1v0"
      },
      "source": [
        "#### Второй вариант вывода"
      ]
    },
    {
      "cell_type": "code",
      "execution_count": 3,
      "metadata": {
        "colab": {
          "base_uri": "https://localhost:8080/"
        },
        "id": "9M_xg3nAs1v4",
        "outputId": "47826f1f-b097-47ac-d345-fa70c4830e0d"
      },
      "outputs": [
        {
          "output_type": "stream",
          "name": "stdout",
          "text": [
            "\n",
            "    | 0 | 1 | 2 | \n",
            "  --------------- \n",
            "  0 |   |   |   | \n",
            "  --------------- \n",
            "  1 |   |   |   | \n",
            "  --------------- \n",
            "  2 |   |   |   | \n",
            "  --------------- \n",
            "\n"
          ]
        }
      ],
      "source": [
        "def show():\n",
        "    print()\n",
        "    print(\"    | 0 | 1 | 2 | \")\n",
        "    print(\"  --------------- \")\n",
        "    for i, row in enumerate(field):\n",
        "        row_str = f\"  {i} | {' | '.join(row)} | \"\n",
        "        print(row_str)\n",
        "        print(\"  --------------- \")\n",
        "    print()\n",
        "\n",
        "show()"
      ]
    },
    {
      "cell_type": "markdown",
      "metadata": {
        "id": "GToo0y2gs1wD"
      },
      "source": [
        "## Спрашиваем координаты у пользователя"
      ]
    },
    {
      "cell_type": "markdown",
      "metadata": {
        "id": "55YtilXWs1wH"
      },
      "source": [
        "#### Простой вариант функции"
      ]
    },
    {
      "cell_type": "code",
      "execution_count": null,
      "metadata": {
        "id": "47t5m0Xes1wN",
        "outputId": "992cb028-3181-43be-db75-f2dea9debd1d"
      },
      "outputs": [
        {
          "name": "stdin",
          "output_type": "stream",
          "text": [
            "         Ваш ход:  1 2\n"
          ]
        },
        {
          "data": {
            "text/plain": [
              "(1, 2)"
            ]
          },
          "execution_count": 6,
          "metadata": {},
          "output_type": "execute_result"
        }
      ],
      "source": [
        "def ask():\n",
        "    x, y = map(int, input(\"         Ваш ход: \").split())\n",
        "    return x, y\n",
        "ask()"
      ]
    },
    {
      "cell_type": "markdown",
      "source": [
        ""
      ],
      "metadata": {
        "id": "v2AZgA5Quhw3"
      }
    },
    {
      "cell_type": "markdown",
      "metadata": {
        "id": "QPZApNnWs1wQ"
      },
      "source": [
        "#### Вариант с базовыми проверками"
      ]
    },
    {
      "cell_type": "code",
      "execution_count": null,
      "metadata": {
        "id": "ZnLvcCfrs1wU",
        "outputId": "151a9f71-f7a5-40bc-fcf3-218b086452cd"
      },
      "outputs": [
        {
          "name": "stdin",
          "output_type": "stream",
          "text": [
            "         Ваш ход:  1 4\n"
          ]
        },
        {
          "name": "stdout",
          "output_type": "stream",
          "text": [
            " Координаты вне диапазона! \n"
          ]
        },
        {
          "name": "stdin",
          "output_type": "stream",
          "text": [
            "         Ваш ход:  1 1\n"
          ]
        },
        {
          "data": {
            "text/plain": [
              "(1, 1)"
            ]
          },
          "execution_count": 8,
          "metadata": {},
          "output_type": "execute_result"
        }
      ],
      "source": [
        "def ask():\n",
        "    while True:\n",
        "        x, y = map(int, input(\"         Ваш ход: \").split())\n",
        "        \n",
        "        if 0 > x or x > 2 or  0 > y or  y > 2 :\n",
        "            print(\" Координаты вне диапазона! \")\n",
        "            continue\n",
        "        \n",
        "        if field[x][y] != \" \":\n",
        "            print(\" Клетка занята! \")\n",
        "            continue\n",
        "        \n",
        "        return x, y\n",
        "ask()"
      ]
    },
    {
      "cell_type": "markdown",
      "metadata": {
        "id": "uKItAfCns1wX"
      },
      "source": [
        "#### Дополнительные проверки"
      ]
    },
    {
      "cell_type": "code",
      "execution_count": null,
      "metadata": {
        "id": "VggESq91s1wZ",
        "outputId": "8acb48d4-0e41-4e4e-84ff-9d222aed312f"
      },
      "outputs": [
        {
          "name": "stdin",
          "output_type": "stream",
          "text": [
            "         Ваш ход:  123123123\n"
          ]
        },
        {
          "name": "stdout",
          "output_type": "stream",
          "text": [
            " Введите 2 координаты! \n"
          ]
        },
        {
          "name": "stdin",
          "output_type": "stream",
          "text": [
            "         Ваш ход:  12 abc\n"
          ]
        },
        {
          "name": "stdout",
          "output_type": "stream",
          "text": [
            " Введите числа! \n"
          ]
        },
        {
          "name": "stdin",
          "output_type": "stream",
          "text": [
            "         Ваш ход:  12 1\n"
          ]
        },
        {
          "name": "stdout",
          "output_type": "stream",
          "text": [
            " Координаты вне диапазона! \n"
          ]
        },
        {
          "name": "stdin",
          "output_type": "stream",
          "text": [
            "         Ваш ход:  0 1\n"
          ]
        },
        {
          "name": "stdout",
          "output_type": "stream",
          "text": [
            " Клетка занята! \n"
          ]
        },
        {
          "name": "stdin",
          "output_type": "stream",
          "text": [
            "         Ваш ход:  1 2\n"
          ]
        },
        {
          "data": {
            "text/plain": [
              "(1, 2)"
            ]
          },
          "execution_count": 29,
          "metadata": {},
          "output_type": "execute_result"
        }
      ],
      "source": [
        "def ask():\n",
        "    while True:\n",
        "        cords = input(\"         Ваш ход: \").split()\n",
        "        \n",
        "        if len(cords) != 2:\n",
        "            print(\" Введите 2 координаты! \")\n",
        "            continue\n",
        "        \n",
        "        x, y = cords\n",
        "        \n",
        "        if not(x.isdigit()) or not(y.isdigit()):\n",
        "            print(\" Введите числа! \")\n",
        "            continue\n",
        "        \n",
        "        x, y = int(x), int(y)\n",
        "        \n",
        "        if 0 > x or x > 2 or  0 > y or  y > 2 :\n",
        "            print(\" Координаты вне диапазона! \")\n",
        "            continue\n",
        "        \n",
        "        if field[x][y] != \" \":\n",
        "            print(\" Клетка занята! \")\n",
        "            continue\n",
        "        \n",
        "        return x, y\n",
        "            \n",
        "ask()"
      ]
    },
    {
      "cell_type": "markdown",
      "metadata": {
        "id": "OOaQ8cCfs1w1"
      },
      "source": [
        "#### Проверка выигрышных комбинаций"
      ]
    },
    {
      "cell_type": "code",
      "execution_count": null,
      "metadata": {
        "id": "cjLxS_XDs1w3",
        "outputId": "a901706b-d193-4cf7-f1a8-295a260958bd"
      },
      "outputs": [
        {
          "name": "stdout",
          "output_type": "stream",
          "text": [
            "Выиграл X!!!\n"
          ]
        },
        {
          "data": {
            "text/plain": [
              "True"
            ]
          },
          "execution_count": 9,
          "metadata": {},
          "output_type": "execute_result"
        }
      ],
      "source": [
        "def check_win():\n",
        "    win_cord = (((0, 0), (0, 1), (0, 2)), ((1, 0), (1, 1), (1, 2)), ((2, 0), (2, 1), (2, 2)),\n",
        "                ((0, 2), (1, 1), (2, 0)), ((0, 0), (1, 1), (2, 2)), ((0, 0), (1, 0), (2, 0)),\n",
        "                ((0, 1), (1, 1), (2, 1)), ((0, 2), (1, 2), (2, 2)))\n",
        "    for cord in win_cord:\n",
        "        symbols = []\n",
        "        for c in cord:\n",
        "            symbols.append(field[c[0]][c[1]])\n",
        "        if symbols == [\"X\", \"X\", \"X\"]:\n",
        "            print(\"Выиграл X!!!\")\n",
        "            return True\n",
        "        if symbols == [\"0\", \"0\", \"0\"]:\n",
        "            print(\"Выиграл 0!!!\")\n",
        "            return True\n",
        "    return False\n",
        "\n",
        "field = [\n",
        "    [\" \", \"X\", \" \"],\n",
        "    [\" \", \"X\", \" \"],\n",
        "    [\" \", \"X\", \" \"]\n",
        "]\n",
        "\n",
        "check_win()"
      ]
    },
    {
      "cell_type": "markdown",
      "metadata": {
        "id": "-64oNYi6s1w9"
      },
      "source": [
        "## Игровой цикл"
      ]
    },
    {
      "cell_type": "code",
      "execution_count": null,
      "metadata": {
        "id": "Iml_LS3ls1xE",
        "outputId": "1a02d22f-b0ce-43c9-efde-aa85046ebfda"
      },
      "outputs": [
        {
          "name": "stdout",
          "output_type": "stream",
          "text": [
            "\n",
            "    | 0 | 1 | 2 | \n",
            "  --------------- \n",
            "  0 |   |   |   | \n",
            "  --------------- \n",
            "  1 |   |   |   | \n",
            "  --------------- \n",
            "  2 |   |   |   | \n",
            "  --------------- \n",
            "\n",
            " Ходит крестик!\n"
          ]
        },
        {
          "name": "stdin",
          "output_type": "stream",
          "text": [
            "         Ваш ход:  0 0\n"
          ]
        },
        {
          "name": "stdout",
          "output_type": "stream",
          "text": [
            "\n",
            "    | 0 | 1 | 2 | \n",
            "  --------------- \n",
            "  0 | X |   |   | \n",
            "  --------------- \n",
            "  1 |   |   |   | \n",
            "  --------------- \n",
            "  2 |   |   |   | \n",
            "  --------------- \n",
            "\n",
            " Ходит нолик!\n"
          ]
        },
        {
          "name": "stdin",
          "output_type": "stream",
          "text": [
            "         Ваш ход:  0 1\n"
          ]
        },
        {
          "name": "stdout",
          "output_type": "stream",
          "text": [
            "\n",
            "    | 0 | 1 | 2 | \n",
            "  --------------- \n",
            "  0 | X | 0 |   | \n",
            "  --------------- \n",
            "  1 |   |   |   | \n",
            "  --------------- \n",
            "  2 |   |   |   | \n",
            "  --------------- \n",
            "\n",
            " Ходит крестик!\n"
          ]
        },
        {
          "name": "stdin",
          "output_type": "stream",
          "text": [
            "         Ваш ход:  1 0\n"
          ]
        },
        {
          "name": "stdout",
          "output_type": "stream",
          "text": [
            "\n",
            "    | 0 | 1 | 2 | \n",
            "  --------------- \n",
            "  0 | X | 0 |   | \n",
            "  --------------- \n",
            "  1 | X |   |   | \n",
            "  --------------- \n",
            "  2 |   |   |   | \n",
            "  --------------- \n",
            "\n",
            " Ходит нолик!\n"
          ]
        },
        {
          "name": "stdin",
          "output_type": "stream",
          "text": [
            "         Ваш ход:  1 1\n"
          ]
        },
        {
          "name": "stdout",
          "output_type": "stream",
          "text": [
            "\n",
            "    | 0 | 1 | 2 | \n",
            "  --------------- \n",
            "  0 | X | 0 |   | \n",
            "  --------------- \n",
            "  1 | X | 0 |   | \n",
            "  --------------- \n",
            "  2 |   |   |   | \n",
            "  --------------- \n",
            "\n",
            " Ходит крестик!\n"
          ]
        },
        {
          "name": "stdin",
          "output_type": "stream",
          "text": [
            "         Ваш ход:  2 1\n"
          ]
        },
        {
          "name": "stdout",
          "output_type": "stream",
          "text": [
            "\n",
            "    | 0 | 1 | 2 | \n",
            "  --------------- \n",
            "  0 | X | 0 |   | \n",
            "  --------------- \n",
            "  1 | X | 0 |   | \n",
            "  --------------- \n",
            "  2 |   | X |   | \n",
            "  --------------- \n",
            "\n",
            " Ходит нолик!\n"
          ]
        },
        {
          "name": "stdin",
          "output_type": "stream",
          "text": [
            "         Ваш ход:  2 2\n"
          ]
        },
        {
          "name": "stdout",
          "output_type": "stream",
          "text": [
            "\n",
            "    | 0 | 1 | 2 | \n",
            "  --------------- \n",
            "  0 | X | 0 |   | \n",
            "  --------------- \n",
            "  1 | X | 0 |   | \n",
            "  --------------- \n",
            "  2 |   | X | 0 | \n",
            "  --------------- \n",
            "\n",
            " Ходит крестик!\n"
          ]
        },
        {
          "name": "stdin",
          "output_type": "stream",
          "text": [
            "         Ваш ход:  2 0\n"
          ]
        },
        {
          "name": "stdout",
          "output_type": "stream",
          "text": [
            "Выиграл X!!!\n"
          ]
        }
      ],
      "source": [
        "greet()\n",
        "field = [[\" \"] * 3 for i in range(3) ]\n",
        "count = 0\n",
        "while True:\n",
        "    count += 1\n",
        "    show()\n",
        "    if count % 2 == 1:\n",
        "        print(\" Ходит крестик!\")\n",
        "    else:\n",
        "        print(\" Ходит нолик!\")\n",
        "    \n",
        "    x, y = ask()\n",
        "    \n",
        "    if count % 2 == 1:\n",
        "        field[x][y] = \"X\"\n",
        "    else:\n",
        "        field[x][y] = \"0\"\n",
        "    \n",
        "    if check_win():\n",
        "        break\n",
        "    \n",
        "    if count == 9:\n",
        "        print(\" Ничья!\")\n",
        "        break"
      ]
    }
  ],
  "metadata": {
    "kernelspec": {
      "display_name": "Python 3",
      "language": "python",
      "name": "python3"
    },
    "language_info": {
      "codemirror_mode": {
        "name": "ipython",
        "version": 3
      },
      "file_extension": ".py",
      "mimetype": "text/x-python",
      "name": "python",
      "nbconvert_exporter": "python",
      "pygments_lexer": "ipython3",
      "version": "3.7.6"
    },
    "colab": {
      "name": "B5.6.ipynb",
      "provenance": [],
      "include_colab_link": true
    }
  },
  "nbformat": 4,
  "nbformat_minor": 0
}